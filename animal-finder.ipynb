{
 "cells": [
  {
   "cell_type": "code",
   "execution_count": 1,
   "metadata": {},
   "outputs": [],
   "source": [
    "import os\n",
    "import numpy as np\n",
    "import cv2"
   ]
  },
  {
   "cell_type": "code",
   "execution_count": 2,
   "metadata": {},
   "outputs": [],
   "source": [
    "y = np.load(\"train_labels.npy\")\n",
    "X = np.load(\"normalized_train_rgb_data.npy\")"
   ]
  },
  {
   "cell_type": "code",
   "execution_count": 3,
   "metadata": {},
   "outputs": [
    {
     "name": "stdout",
     "output_type": "stream",
     "text": [
      "Num GPUs Available: 1\n"
     ]
    }
   ],
   "source": [
    "from tensorflow.keras.preprocessing.image import ImageDataGenerator\n",
    "from tensorflow.keras.applications import MobileNetV2, ResNet50\n",
    "from tensorflow.keras.layers import GlobalAveragePooling2D, Dense, Dropout\n",
    "from tensorflow.keras.models import Model\n",
    "import tensorflow as tf\n",
    "from tensorflow.keras.regularizers import l1, l2, l1_l2\n",
    "print(\"Num GPUs Available:\", len(tf.config.list_physical_devices('GPU')))\n"
   ]
  },
  {
   "cell_type": "code",
   "execution_count": 4,
   "metadata": {},
   "outputs": [],
   "source": [
    "base_model = ResNet50(weights='imagenet', include_top=False, input_shape=(64, 64, 3))"
   ]
  },
  {
   "cell_type": "code",
   "execution_count": 5,
   "metadata": {},
   "outputs": [],
   "source": [
    "x = base_model.output\n",
    "x = GlobalAveragePooling2D()(x)\n",
    "x = Dropout(0.8)(x)\n",
    "output = Dense(10, activation= 'softmax')(x)\n",
    "model = Model(inputs = base_model.input, outputs = output)\n",
    "\n",
    "#Freeze first layers\n",
    "for layer in base_model.layers[:20]:\n",
    "    layer.trainable = False\n",
    "    \n",
    "#Unfreeze the remaining layers to allow fine-tuning\n",
    "for layer in base_model.layers[30:]:\n",
    "    layer.trainable = True"
   ]
  },
  {
   "cell_type": "code",
   "execution_count": 6,
   "metadata": {},
   "outputs": [],
   "source": [
    "from keras.optimizers import Adam\n",
    "from keras import metrics\n",
    "adam = Adam(learning_rate=0.0001)\n",
    "model.compile(optimizer= adam, loss='categorical_crossentropy', metrics=['accuracy', metrics.Precision(), metrics.Recall()])"
   ]
  },
  {
   "cell_type": "code",
   "execution_count": 7,
   "metadata": {},
   "outputs": [
    {
     "name": "stdout",
     "output_type": "stream",
     "text": [
      "Epoch 1/10\n",
      "352/352 [==============================] - 62s 145ms/step - loss: 2.3930 - accuracy: 0.2025 - precision: 0.3425 - recall: 0.0274 - val_loss: 4.7325 - val_accuracy: 0.0000e+00 - val_precision: 0.0000e+00 - val_recall: 0.0000e+00\n",
      "Epoch 2/10\n",
      "352/352 [==============================] - 59s 168ms/step - loss: 1.6435 - accuracy: 0.4119 - precision: 0.6396 - recall: 0.2072 - val_loss: 7.1320 - val_accuracy: 0.0238 - val_precision: 0.0366 - val_recall: 0.0178\n",
      "Epoch 3/10\n",
      "352/352 [==============================] - 61s 173ms/step - loss: 1.4047 - accuracy: 0.4987 - precision: 0.6998 - recall: 0.3089 - val_loss: 8.1354 - val_accuracy: 0.0244 - val_precision: 0.0317 - val_recall: 0.0180\n",
      "Epoch 4/10\n",
      "352/352 [==============================] - 61s 174ms/step - loss: 1.2886 - accuracy: 0.5410 - precision: 0.7218 - recall: 0.3697 - val_loss: 8.4995 - val_accuracy: 0.0296 - val_precision: 0.0338 - val_recall: 0.0250\n",
      "Epoch 5/10\n",
      "352/352 [==============================] - 61s 174ms/step - loss: 1.1994 - accuracy: 0.5760 - precision: 0.7418 - recall: 0.4149 - val_loss: 8.0757 - val_accuracy: 0.0270 - val_precision: 0.0394 - val_recall: 0.0220\n",
      "Epoch 6/10\n",
      "352/352 [==============================] - 61s 174ms/step - loss: 1.1279 - accuracy: 0.6014 - precision: 0.7534 - recall: 0.4567 - val_loss: 9.2728 - val_accuracy: 0.0250 - val_precision: 0.0349 - val_recall: 0.0206\n",
      "Epoch 7/10\n",
      "352/352 [==============================] - 61s 172ms/step - loss: 1.0639 - accuracy: 0.6240 - precision: 0.7652 - recall: 0.4882 - val_loss: 9.6805 - val_accuracy: 0.0222 - val_precision: 0.0288 - val_recall: 0.0188\n",
      "Epoch 8/10\n",
      "352/352 [==============================] - 61s 172ms/step - loss: 0.9948 - accuracy: 0.6498 - precision: 0.7840 - recall: 0.5293 - val_loss: 11.5437 - val_accuracy: 0.0320 - val_precision: 0.0358 - val_recall: 0.0296\n",
      "Epoch 9/10\n",
      "352/352 [==============================] - 60s 172ms/step - loss: 0.9339 - accuracy: 0.6690 - precision: 0.7962 - recall: 0.5560 - val_loss: 16.8709 - val_accuracy: 0.0304 - val_precision: 0.0337 - val_recall: 0.0300\n",
      "Epoch 10/10\n",
      "352/352 [==============================] - 61s 174ms/step - loss: 0.8661 - accuracy: 0.6932 - precision: 0.8075 - recall: 0.5942 - val_loss: 12.1087 - val_accuracy: 0.0224 - val_precision: 0.0257 - val_recall: 0.0188\n"
     ]
    }
   ],
   "source": [
    "history = model.fit(X, y, epochs=10, batch_size=128, validation_split=0.1)"
   ]
  },
  {
   "cell_type": "code",
   "execution_count": 8,
   "metadata": {},
   "outputs": [],
   "source": [
    "model.save(\"WildSeekAI.keras\")"
   ]
  }
 ],
 "metadata": {
  "kernelspec": {
   "display_name": "base",
   "language": "python",
   "name": "python3"
  },
  "language_info": {
   "codemirror_mode": {
    "name": "ipython",
    "version": 3
   },
   "file_extension": ".py",
   "mimetype": "text/x-python",
   "name": "python",
   "nbconvert_exporter": "python",
   "pygments_lexer": "ipython3",
   "version": "3.9.18"
  }
 },
 "nbformat": 4,
 "nbformat_minor": 2
}
