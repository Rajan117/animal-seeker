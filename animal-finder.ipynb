{
 "cells": [
  {
   "cell_type": "code",
   "execution_count": 1,
   "metadata": {},
   "outputs": [],
   "source": [
    "import os\n",
    "import numpy as np\n",
    "import cv2"
   ]
  },
  {
   "cell_type": "code",
   "execution_count": 2,
   "metadata": {},
   "outputs": [],
   "source": [
    "y = np.load(\"train_labels.npy\")\n",
    "X = np.load(\"normalized_train_rgb_data.npy\")"
   ]
  },
  {
   "cell_type": "code",
   "execution_count": 3,
   "metadata": {},
   "outputs": [
    {
     "name": "stdout",
     "output_type": "stream",
     "text": [
      "Num GPUs Available: 1\n"
     ]
    }
   ],
   "source": [
    "from tensorflow.keras.preprocessing.image import ImageDataGenerator\n",
    "from tensorflow.keras.applications import MobileNetV2, ResNet50\n",
    "from tensorflow.keras.layers import GlobalAveragePooling2D, Dense, Dropout\n",
    "from tensorflow.keras.models import Model\n",
    "import tensorflow as tf\n",
    "from tensorflow.keras.regularizers import l1, l2, l1_l2\n",
    "print(\"Num GPUs Available:\", len(tf.config.list_physical_devices('GPU')))\n"
   ]
  },
  {
   "cell_type": "code",
   "execution_count": 4,
   "metadata": {},
   "outputs": [],
   "source": [
    "base_model = ResNet50(weights='imagenet', include_top=False, input_shape=(64, 64, 3))"
   ]
  },
  {
   "cell_type": "code",
   "execution_count": 5,
   "metadata": {},
   "outputs": [],
   "source": [
    "x = base_model.output\n",
    "x = GlobalAveragePooling2D()(x)\n",
    "x = Dropout(0.7)(x)\n",
    "output = Dense(10, activation= 'softmax')(x)\n",
    "model = Model(inputs = base_model.input, outputs = output)\n",
    "\n",
    "#Freeze first layers\n",
    "for layer in base_model.layers[:20]:\n",
    "    layer.trainable = False\n",
    "    \n",
    "#Unfreeze the remaining layers to allow fine-tuning\n",
    "for layer in base_model.layers[20:]:\n",
    "    layer.trainable = True"
   ]
  },
  {
   "cell_type": "code",
   "execution_count": 6,
   "metadata": {},
   "outputs": [],
   "source": [
    "from keras.optimizers import Adam\n",
    "from keras import metrics\n",
    "adam = Adam(learning_rate=0.0001)\n",
    "model.compile(optimizer= adam, loss='categorical_crossentropy', metrics=['accuracy', metrics.Precision(), metrics.Recall()])"
   ]
  },
  {
   "cell_type": "code",
   "execution_count": 7,
   "metadata": {},
   "outputs": [
    {
     "name": "stdout",
     "output_type": "stream",
     "text": [
      "Epoch 1/10\n",
      "176/176 [==============================] - 59s 275ms/step - loss: 1.9650 - accuracy: 0.4005 - precision: 0.6542 - recall: 0.2188 - val_loss: 3.5974 - val_accuracy: 0.0000e+00 - val_precision: 0.0000e+00 - val_recall: 0.0000e+00\n",
      "Epoch 2/10\n",
      "176/176 [==============================] - 54s 309ms/step - loss: 1.0185 - accuracy: 0.6530 - precision: 0.7837 - recall: 0.5410 - val_loss: 2.7285 - val_accuracy: 0.0000e+00 - val_precision: 0.0000e+00 - val_recall: 0.0000e+00\n",
      "Epoch 3/10\n",
      "176/176 [==============================] - 55s 310ms/step - loss: 0.7195 - accuracy: 0.7462 - precision: 0.8313 - recall: 0.6712 - val_loss: 3.5082 - val_accuracy: 0.0000e+00 - val_precision: 0.0000e+00 - val_recall: 0.0000e+00\n",
      "Epoch 4/10\n",
      "176/176 [==============================] - 54s 309ms/step - loss: 0.4945 - accuracy: 0.8228 - precision: 0.8770 - recall: 0.7782 - val_loss: 4.3062 - val_accuracy: 6.0000e-04 - val_precision: 0.0000e+00 - val_recall: 0.0000e+00\n",
      "Epoch 5/10\n",
      "176/176 [==============================] - 65s 370ms/step - loss: 0.3352 - accuracy: 0.8778 - precision: 0.9090 - recall: 0.8522 - val_loss: 3.1195 - val_accuracy: 4.0000e-04 - val_precision: 0.1429 - val_recall: 2.0000e-04\n",
      "Epoch 6/10\n",
      "176/176 [==============================] - 55s 311ms/step - loss: 0.2328 - accuracy: 0.9180 - precision: 0.9355 - recall: 0.9037 - val_loss: 5.6104 - val_accuracy: 0.0000e+00 - val_precision: 0.0000e+00 - val_recall: 0.0000e+00\n",
      "Epoch 7/10\n",
      "176/176 [==============================] - 54s 305ms/step - loss: 0.1770 - accuracy: 0.9402 - precision: 0.9506 - recall: 0.9308 - val_loss: 5.1316 - val_accuracy: 0.0000e+00 - val_precision: 0.0000e+00 - val_recall: 0.0000e+00\n",
      "Epoch 8/10\n",
      "176/176 [==============================] - 54s 304ms/step - loss: 0.1291 - accuracy: 0.9564 - precision: 0.9627 - recall: 0.9507 - val_loss: 5.3536 - val_accuracy: 0.0000e+00 - val_precision: 0.0000e+00 - val_recall: 0.0000e+00\n",
      "Epoch 9/10\n",
      "176/176 [==============================] - 53s 303ms/step - loss: 0.1127 - accuracy: 0.9620 - precision: 0.9662 - recall: 0.9578 - val_loss: 44.8331 - val_accuracy: 0.0000e+00 - val_precision: 0.0000e+00 - val_recall: 0.0000e+00\n",
      "Epoch 10/10\n",
      "176/176 [==============================] - 53s 303ms/step - loss: 0.0981 - accuracy: 0.9668 - precision: 0.9705 - recall: 0.9633 - val_loss: 5.7365 - val_accuracy: 0.0000e+00 - val_precision: 0.0000e+00 - val_recall: 0.0000e+00\n"
     ]
    }
   ],
   "source": [
    "history = model.fit(X, y, epochs=10, batch_size=128, validation_split=0.1)"
   ]
  },
  {
   "cell_type": "code",
   "execution_count": 8,
   "metadata": {},
   "outputs": [],
   "source": [
    "model.save(\"WildSeekAI.keras\")"
   ]
  }
 ],
 "metadata": {
  "kernelspec": {
   "display_name": "base",
   "language": "python",
   "name": "python3"
  },
  "language_info": {
   "codemirror_mode": {
    "name": "ipython",
    "version": 3
   },
   "file_extension": ".py",
   "mimetype": "text/x-python",
   "name": "python",
   "nbconvert_exporter": "python",
   "pygments_lexer": "ipython3",
   "version": "3.9.18"
  }
 },
 "nbformat": 4,
 "nbformat_minor": 2
}
