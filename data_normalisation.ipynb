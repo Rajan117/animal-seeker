{
 "cells": [
  {
   "cell_type": "code",
   "execution_count": 1,
   "metadata": {},
   "outputs": [],
   "source": [
    "import os\n",
    "import numpy as np\n",
    "import cv2"
   ]
  },
  {
   "cell_type": "code",
   "execution_count": 2,
   "metadata": {},
   "outputs": [],
   "source": [
    "training_dir = \"C:/Users/rajan/Desktop/raw_image_ver/training/\"\n",
    "\n",
    "label_map = { 0 : \"cat\", 1 : \"lynx\", 2 : \"wolf\", 3 : \"coyote\", 4 : \"cheetah\", \n",
    "            5 : \"jaguer\", 6 : \"chimpanzee\", 7 : \"orangutan\", 8 : \"hamster\", 9 : \"guineapig\"}\n",
    "\n",
    "X = []\n",
    "y = []"
   ]
  },
  {
   "cell_type": "code",
   "execution_count": 4,
   "metadata": {},
   "outputs": [],
   "source": [
    "for filename in os.listdir(training_dir):\n",
    "    if filename.endswith(\".jpg\"):\n",
    "        image = cv2.imread(os.path.join(training_dir, filename))\n",
    "        image = cv2.resize(image, (64, 64))\n",
    "        image = image / 255.0\n",
    "        X.append(image)\n",
    "        y.append(int(filename[0]))"
   ]
  },
  {
   "cell_type": "code",
   "execution_count": 6,
   "metadata": {},
   "outputs": [],
   "source": [
    "from sklearn.preprocessing import LabelEncoder\n",
    "from keras.utils import to_categorical\n",
    "\n",
    "y_one_hot = to_categorical(y, num_classes=10)\n",
    "y_one_hot = np.array(y_one_hot)\n",
    "\n",
    "np.save('train_labels.npy', y_one_hot)"
   ]
  },
  {
   "cell_type": "code",
   "execution_count": null,
   "metadata": {},
   "outputs": [],
   "source": [
    "X = np.asarray(X)\n",
    "\n",
    "np.save('normalized_train_rgb_data.npy', X)"
   ]
  }
 ],
 "metadata": {
  "kernelspec": {
   "display_name": "tf",
   "language": "python",
   "name": "python3"
  },
  "language_info": {
   "codemirror_mode": {
    "name": "ipython",
    "version": 3
   },
   "file_extension": ".py",
   "mimetype": "text/x-python",
   "name": "python",
   "nbconvert_exporter": "python",
   "pygments_lexer": "ipython3",
   "version": "3.9.18"
  }
 },
 "nbformat": 4,
 "nbformat_minor": 2
}
